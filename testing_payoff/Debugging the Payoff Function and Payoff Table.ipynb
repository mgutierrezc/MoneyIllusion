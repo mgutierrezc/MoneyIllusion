{
 "cells": [
  {
   "cell_type": "markdown",
   "metadata": {},
   "source": [
    "## 1. Importing the neccesary libraries"
   ]
  },
  {
   "cell_type": "code",
   "execution_count": 1,
   "metadata": {},
   "outputs": [],
   "source": [
    "import math"
   ]
  },
  {
   "cell_type": "markdown",
   "metadata": {},
   "source": [
    "## 2. Creating the FT2001 real payoff function (for 1 player)"
   ]
  },
  {
   "cell_type": "code",
   "execution_count": 2,
   "metadata": {},
   "outputs": [],
   "source": [
    "def set_payoffs(sum_prices, selling_price, players_per_group, role):\n",
    "    \n",
    "    # Defining constants\n",
    "    \n",
    "    a = 0.5\n",
    "    b = 0.6\n",
    "    c = 27\n",
    "    d = 1\n",
    "    e = 0.05\n",
    "    f = 20\n",
    "    V = 40\n",
    "    money = [42, 14]\n",
    "    shock_period = 0\n",
    "    eq_prices = dict(x=9, y=27)\n",
    "    # Los valores siguientes son los que ve un x e y en los demas\n",
    "    eq_avg_prices_others = dict(x=21, y=15)\n",
    "    players_per_group = 4\n",
    "\n",
    "    # Setting up the params and output of the payoff function\n",
    "    others_avg_price = (sum_prices - selling_price) / \\\n",
    "                                      (players_per_group - 1)\n",
    "    delta = (others_avg_price - eq_avg_prices_others[role])/money[shock_period]\n",
    "    epsilon = selling_price / money[shock_period] - eq_prices[role] / money[\n",
    "                shock_period]\n",
    "    payoff = V * ((1 + a * delta ** 2) / (1 + b * delta ** 2)) / \\\n",
    "                            (1 + c * (epsilon - d * delta + e * math.atan(f * delta))**2)\n",
    "    numer = V * ((1 + a * delta ** 2) / (1 + b * delta ** 2))\n",
    "    denom = (1 + c * (epsilon - d * delta + e * math.atan(f * delta)))\n",
    "    \n",
    "    return dict(others_avg=others_avg_price, delta=delta, epsilon=epsilon, numer=numer, denom=denom, payoff=payoff)"
   ]
  },
  {
   "cell_type": "markdown",
   "metadata": {},
   "source": [
    "## Note: The following function is the first one used in the oTree code (DON'T RUN IT)"
   ]
  },
  {
   "cell_type": "code",
   "execution_count": null,
   "metadata": {},
   "outputs": [],
   "source": [
    "    def set_payoffs_game(self):\n",
    "        players = self.get_players()\n",
    "        con = Constants\n",
    "        for player in players:\n",
    "            player.others_avg_price = (self.sum_prices - player.selling_price) / \\\n",
    "                                      (con.players_per_group - 1)\n",
    "\n",
    "            # Definiendo func de pagos reales FT2001\n",
    "            player.delta = (player.others_avg_price / con.money[self.shock_period] - con.eq_avg_prices_others[player.role()] /\n",
    "                     con.money[self.shock_period])\n",
    "            player.epsilon = player.selling_price / con.money[self.shock_period] - con.eq_prices[player.role()] / con.money[\n",
    "                self.shock_period]\n",
    "            player.payoff = c(con.V * ((1 + con.a * player.delta ** 2) / (1 + con.b * player.delta ** 2)) / \\\n",
    "                            (1 + con.c * (player.epsilon - con.d * player.delta + con.e * math.atan(con.f * player.delta))))\n"
   ]
  },
  {
   "cell_type": "markdown",
   "metadata": {},
   "source": [
    "## 3. Defining the testing input"
   ]
  },
  {
   "cell_type": "code",
   "execution_count": 57,
   "metadata": {},
   "outputs": [],
   "source": [
    "# The sum of all the prices are considered an input for the payoff \n",
    "#function because of the way it has been programmed on otree\n",
    "sum_prices_t = 21\n",
    "selling_price_t = 3\n",
    "# FT2001 and PW2014 constrain us to use 4 players per group\n",
    "players_per_group_t = 4\n",
    "# Role could be 'x' or 'y'. Lets suppose our player is a firm y\n",
    "role_t = 'y'"
   ]
  },
  {
   "cell_type": "code",
   "execution_count": 59,
   "metadata": {},
   "outputs": [
    {
     "name": "stdout",
     "output_type": "stream",
     "text": [
      "{'others_avg': 6.0, 'delta': -0.21428571428571427, 'epsilon': -0.5714285714285715, 'numer': 39.821251241310826, 'denom': -10.453969074106311, 'payoff': 6.796577684007443}\n"
     ]
    }
   ],
   "source": [
    "# The following command shows the payoff in real terms\n",
    "print (set_payoffs(sum_prices_t, selling_price_t, players_per_group_t, role_t))"
   ]
  },
  {
   "cell_type": "markdown",
   "metadata": {},
   "source": [
    "The results of this function are **CORRECT** according to the table 5 in the [**working paper**](https://www.cesifo.org/DocDL/ces_wp184.pdf) version of FT2001 (page 46) :)"
   ]
  },
  {
   "cell_type": "markdown",
   "metadata": {},
   "source": [
    "## 4. Creating a dynamically programmed payoff table"
   ]
  },
  {
   "cell_type": "markdown",
   "metadata": {},
   "source": [
    "First, we need to create a nominal payoff function for this exercise"
   ]
  }
 ],
 "metadata": {
  "kernelspec": {
   "display_name": "Python 3",
   "language": "python",
   "name": "python3"
  },
  "language_info": {
   "codemirror_mode": {
    "name": "ipython",
    "version": 3
   },
   "file_extension": ".py",
   "mimetype": "text/x-python",
   "name": "python",
   "nbconvert_exporter": "python",
   "pygments_lexer": "ipython3",
   "version": "3.7.3"
  }
 },
 "nbformat": 4,
 "nbformat_minor": 2
}
